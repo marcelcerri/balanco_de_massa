{
 "cells": [
  {
   "cell_type": "code",
   "execution_count": 11,
   "metadata": {},
   "outputs": [
    {
     "name": "stdout",
     "output_type": "stream",
     "text": [
      "A vazão mássica m2 é 700.0 kg/h\n",
      "A fração mássica yA2 é 0.671 kg A/ kg\n",
      "A fração mássica yA2 é 0.329 kg B/ kg\n"
     ]
    }
   ],
   "source": [
    "# Importando as bibliotecas scipy.optimize e numpy\n",
    "from scipy.optimize import fsolve\n",
    "import numpy as np\n",
    "\n",
    "#Definindo as equações de balanço de massa, equações não-lineares\n",
    "def f(z):\n",
    "    m2  =  z[0]\n",
    "    ya2  = z[1]\n",
    "    yb2 =  z[2]\n",
    "\n",
    "    F = np.empty((3))\n",
    "    F[0] = -1000 + m2 + 300 \n",
    "    F[1] = -1000*0.5 + m2*ya2 + 300*0.1\n",
    "    F[2] = ya2 + yb2 -1\n",
    "    return F\n",
    "\n",
    "# Chute inicial\n",
    "init = np.array([1,1,1])\n",
    "\n",
    "# Chamando fsolve para resolver o problema\n",
    "z = fsolve(f,init)\n",
    "\n",
    "# Imprimindo a solução\n",
    "print(f'A vazão mássica m2 é {z[0]} kg/h')\n",
    "print(f'A fração mássica yA2 é {z[1]:5.3f} kg A/ kg')\n",
    "print(f'A fração mássica yA2 é {z[2]:5.3f} kg B/ kg')"
   ]
  },
  {
   "cell_type": "code",
   "execution_count": 17,
   "metadata": {},
   "outputs": [
    {
     "name": "stdout",
     "output_type": "stream",
     "text": [
      "A vazão mássica m2 é 766.471 kg/h\n",
      "A vazão mássica m3 é 977.529 kg/h\n",
      "A fração mássica yB3 é 0.064 kg B/ kg\n",
      "A fração mássica yT3 é 0.936 kg T/ kg\n"
     ]
    }
   ],
   "source": [
    "# Importando as bibliotecas scipy.optimize e numpy\n",
    "from scipy.optimize import fsolve\n",
    "import numpy as np\n",
    "\n",
    "#Definindo as equações de balanço de massa, equações não-lineares\n",
    "def f(z):\n",
    "    m2 =  z[0]\n",
    "    m3 =  z[1]\n",
    "    yb3 = z[2]\n",
    "    yt3 = z[3]\n",
    "\n",
    "    F = np.empty((4))\n",
    "    F[0] = 0.08*1744*0.45 - m3*yb3\n",
    "    F[1] = 0.45*1744 - 0.942*m2 - m3*yb3\n",
    "    F[2] = 0.55*1744 - 0.058*m2 - m3*yt3\n",
    "    F[3] = yb3 + yt3 - 1\n",
    "    return F\n",
    "# Chute inicial\n",
    "init = np.array([1,1,1,1])\n",
    "# Chamando fsolve para resolver o problema\n",
    "z = fsolve(f,init)\n",
    "\n",
    "# Imprimindo a solução\n",
    "print(f'A vazão mássica m2 é {z[0]:5.3f} kg/h')\n",
    "print(f'A vazão mássica m3 é {z[1]:5.3f} kg/h')\n",
    "print(f'A fração mássica yB3 é {z[2]:5.3f} kg B/ kg')\n",
    "print(f'A fração mássica yT3 é {z[3]:5.3f} kg T/ kg')"
   ]
  },
  {
   "cell_type": "code",
   "execution_count": null,
   "metadata": {},
   "outputs": [],
   "source": []
  }
 ],
 "metadata": {
  "kernelspec": {
   "display_name": "Python 3",
   "language": "python",
   "name": "python3"
  },
  "language_info": {
   "codemirror_mode": {
    "name": "ipython",
    "version": 3
   },
   "file_extension": ".py",
   "mimetype": "text/x-python",
   "name": "python",
   "nbconvert_exporter": "python",
   "pygments_lexer": "ipython3",
   "version": "3.6.8"
  }
 },
 "nbformat": 4,
 "nbformat_minor": 2
}
