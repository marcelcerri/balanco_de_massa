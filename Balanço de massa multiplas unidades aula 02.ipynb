{
 "cells": [
  {
   "cell_type": "markdown",
   "metadata": {},
   "source": [
    "## Balanço de Massa Múltiplas Unidades sem reação química"
   ]
  },
  {
   "cell_type": "code",
   "execution_count": 7,
   "metadata": {},
   "outputs": [
    {
     "name": "stdout",
     "output_type": "stream",
     "text": [
      "Corrente 3\n",
      "A vazão mássica m3 é 60.0 kg/h\n",
      "A fração mássica ya3 é 0.233 kg A/ kg\n",
      "A fração mássica yb3 é 0.767 kg B/ kg\n",
      "----------------------------------------\n",
      "Corrente 5\n",
      "A vazão mássica m5 é 90.0 kg/h\n",
      "A fração mássica ya5 é 0.256 kg A/ kg\n",
      "A fração mássica yb5 é 0.744 kg B/ kg\n",
      "----------------------------------------\n",
      "Corrente 7\n",
      "A vazão mássica m7 é 60.0 kg/h\n",
      "A fração mássica ya7 é 0.083 kg A/ kg\n",
      "A fração mássica yb7 é 0.917 kg B/ kg\n"
     ]
    }
   ],
   "source": [
    "# Balanço de Massa Múltiplas Unidades sem reação química\n",
    "# Exemplo do Livro do Felder-  4-4.1\n",
    "# Importando as bibliotecas scipy.optimize e numpy\n",
    "from scipy.optimize import fsolve\n",
    "import numpy as np\n",
    "\n",
    "# Definindo as correntes que já tem informações (corrente 1, 2, 4 e 6)\n",
    "# Corrente 1\n",
    "m1 = 100\n",
    "ya1 = 0.50\n",
    "yb1 = 0.50\n",
    "# Corrente 2\n",
    "m2 = 40\n",
    "ya2 = 0.90\n",
    "yb2 = 0.10\n",
    "# Corrente 4\n",
    "m4 = 30\n",
    "ya4 = 0.30\n",
    "yb4 = 0.70\n",
    "# Corrente 6\n",
    "m6 = 30\n",
    "ya6 = 0.60\n",
    "yb6 = 0.40\n",
    "\n",
    "#Definindo as equações de balanço de massa, equações não-lineares\n",
    "def funcao(z):\n",
    "    # Corrente 3\n",
    "    m3  =  z[0]\n",
    "    ya3  = z[1]\n",
    "    yb3 =  z[2]\n",
    "    # Corrente 5\n",
    "    m5  =  z[3]\n",
    "    ya5  = z[4]\n",
    "    yb5 =  z[5]\n",
    "    # Corrente 7\n",
    "    m7  =  z[6]\n",
    "    ya7  = z[7]\n",
    "    yb7 =  z[8]\n",
    "\n",
    "    F = np.empty((9))\n",
    "    # Balanço de massa no volume de controle A\n",
    "    F[0] = m1 - m2 - m3 \n",
    "    F[1] = m1*ya1 - m2*ya2 - m3*ya3\n",
    "    F[2] = ya3 + yb3 -1\n",
    "    # Balanço de massa no volume de controle B\n",
    "    F[3] = m3 + m4 - m5 \n",
    "    F[4] = m3*ya3 + m4*ya4 - m5*ya5\n",
    "    F[5] = ya5 + yb5 -1\n",
    "    # Balanço de massa no volume de controle C\n",
    "    F[6] = m5 - m6 - m7 \n",
    "    F[7] = m5*ya5 - m6*ya6 - m7*ya7\n",
    "    F[8] = ya7 + yb7 -1\n",
    "    return F\n",
    "\n",
    "# Chute inicial\n",
    "inicio = np.array([1,1,1,1,1,1,1,1,1])\n",
    "\n",
    "# Chamando fsolve para resolver o problema\n",
    "z = fsolve(funcao,inicio)\n",
    "\n",
    "# Imprimindo a solução do problema\n",
    "print(\"Corrente 3\")\n",
    "print(f'A vazão mássica m3 é {z[0]} kg/h')\n",
    "print(f'A fração mássica ya3 é {z[1]:5.3f} kg A/ kg')\n",
    "print(f'A fração mássica yb3 é {z[2]:5.3f} kg B/ kg')\n",
    "print(40*\"-\" )\n",
    "print(\"Corrente 5\")\n",
    "print(f'A vazão mássica m5 é {z[3]} kg/h')\n",
    "print(f'A fração mássica ya5 é {z[4]:5.3f} kg A/ kg')\n",
    "print(f'A fração mássica yb5 é {z[5]:5.3f} kg B/ kg')\n",
    "print(40*\"-\" )\n",
    "print(\"Corrente 7\")\n",
    "print(f'A vazão mássica m7 é {z[6]} kg/h')\n",
    "print(f'A fração mássica ya7 é {z[7]:5.3f} kg A/ kg')\n",
    "print(f'A fração mássica yb7 é {z[8]:5.3f} kg B/ kg')"
   ]
  },
  {
   "cell_type": "code",
   "execution_count": null,
   "metadata": {},
   "outputs": [],
   "source": []
  }
 ],
 "metadata": {
  "kernelspec": {
   "display_name": "Python 3",
   "language": "python",
   "name": "python3"
  },
  "language_info": {
   "codemirror_mode": {
    "name": "ipython",
    "version": 3
   },
   "file_extension": ".py",
   "mimetype": "text/x-python",
   "name": "python",
   "nbconvert_exporter": "python",
   "pygments_lexer": "ipython3",
   "version": "3.7.6"
  }
 },
 "nbformat": 4,
 "nbformat_minor": 2
}
